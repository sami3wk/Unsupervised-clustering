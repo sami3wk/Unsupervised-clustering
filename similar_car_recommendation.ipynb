{
 "cells": [
  {
   "cell_type": "code",
   "execution_count": 1,
   "id": "ff045192",
   "metadata": {},
   "outputs": [],
   "source": [
    "import pandas as pd\n",
    "from warnings import filterwarnings\n",
    "filterwarnings(\"ignore\")"
   ]
  },
  {
   "cell_type": "markdown",
   "id": "b09f0ec2",
   "metadata": {},
   "source": [
    "# Read Data"
   ]
  },
  {
   "cell_type": "code",
   "execution_count": 2,
   "id": "9956a79d",
   "metadata": {},
   "outputs": [],
   "source": [
    "A = pd.read_csv(\"E:/Data Science/Datasets/Cars93.csv\")"
   ]
  },
  {
   "cell_type": "code",
   "execution_count": 3,
   "id": "de6faa2d",
   "metadata": {},
   "outputs": [],
   "source": [
    "B = A[[\"Price\",\"MPG.city\"]]"
   ]
  },
  {
   "cell_type": "markdown",
   "id": "bc410e9b",
   "metadata": {},
   "source": [
    "# Data Preprocessing"
   ]
  },
  {
   "cell_type": "code",
   "execution_count": 4,
   "id": "3d09c97b",
   "metadata": {},
   "outputs": [],
   "source": [
    "from sklearn.preprocessing import MinMaxScaler\n",
    "mm = MinMaxScaler()\n",
    "C = pd.DataFrame(mm.fit_transform(B),columns=[\"Price\",\"MPG.city\"])"
   ]
  },
  {
   "cell_type": "markdown",
   "id": "96ed9e8a",
   "metadata": {},
   "source": [
    "# Finding best K by using Elbow curve"
   ]
  },
  {
   "cell_type": "code",
   "execution_count": 5,
   "id": "047dd4cd",
   "metadata": {},
   "outputs": [],
   "source": [
    "from sklearn.cluster import KMeans\n",
    "k = range(2,20,1)\n",
    "WCSS = []\n",
    "for i in k:\n",
    "    km = KMeans(n_clusters=i)\n",
    "    km_model = km.fit(C)\n",
    "    WCSS.append(km_model.inertia_)"
   ]
  },
  {
   "cell_type": "code",
   "execution_count": 6,
   "id": "a0f5b6d9",
   "metadata": {},
   "outputs": [
    {
     "data": {
      "text/plain": [
       "[2.984556204508492,\n",
       " 1.7604339512829656,\n",
       " 1.2111248917250903,\n",
       " 0.8106745220475998,\n",
       " 0.5533447368852447,\n",
       " 0.434185897435692,\n",
       " 0.361629910535126,\n",
       " 0.32173521370079994,\n",
       " 0.27848725890076265,\n",
       " 0.2538701767503396,\n",
       " 0.2272813484447847,\n",
       " 0.1986845316334998,\n",
       " 0.17270705579217452,\n",
       " 0.15395744451189922,\n",
       " 0.1412137134871394,\n",
       " 0.13040916389335097,\n",
       " 0.11719295820458328,\n",
       " 0.10568344193296327]"
      ]
     },
     "execution_count": 6,
     "metadata": {},
     "output_type": "execute_result"
    }
   ],
   "source": [
    "WCSS"
   ]
  },
  {
   "cell_type": "code",
   "execution_count": 7,
   "id": "fa5ff927",
   "metadata": {},
   "outputs": [
    {
     "data": {
      "text/plain": [
       "([<matplotlib.axis.XTick at 0x253653c7c10>,\n",
       "  <matplotlib.axis.XTick at 0x253653c7be0>,\n",
       "  <matplotlib.axis.XTick at 0x253653bb760>,\n",
       "  <matplotlib.axis.XTick at 0x2536540fd60>,\n",
       "  <matplotlib.axis.XTick at 0x2536542f2b0>,\n",
       "  <matplotlib.axis.XTick at 0x2536542f7c0>,\n",
       "  <matplotlib.axis.XTick at 0x2536542fcd0>,\n",
       "  <matplotlib.axis.XTick at 0x25365436220>,\n",
       "  <matplotlib.axis.XTick at 0x2536542f4f0>,\n",
       "  <matplotlib.axis.XTick at 0x25365436280>,\n",
       "  <matplotlib.axis.XTick at 0x253654368e0>,\n",
       "  <matplotlib.axis.XTick at 0x25365436df0>,\n",
       "  <matplotlib.axis.XTick at 0x2536543c340>,\n",
       "  <matplotlib.axis.XTick at 0x2536543c850>,\n",
       "  <matplotlib.axis.XTick at 0x2536543cd60>,\n",
       "  <matplotlib.axis.XTick at 0x253654412b0>,\n",
       "  <matplotlib.axis.XTick at 0x253654417c0>,\n",
       "  <matplotlib.axis.XTick at 0x2536543c490>],\n",
       " [Text(0, 0, ''),\n",
       "  Text(0, 0, ''),\n",
       "  Text(0, 0, ''),\n",
       "  Text(0, 0, ''),\n",
       "  Text(0, 0, ''),\n",
       "  Text(0, 0, ''),\n",
       "  Text(0, 0, ''),\n",
       "  Text(0, 0, ''),\n",
       "  Text(0, 0, ''),\n",
       "  Text(0, 0, ''),\n",
       "  Text(0, 0, ''),\n",
       "  Text(0, 0, ''),\n",
       "  Text(0, 0, ''),\n",
       "  Text(0, 0, ''),\n",
       "  Text(0, 0, ''),\n",
       "  Text(0, 0, ''),\n",
       "  Text(0, 0, ''),\n",
       "  Text(0, 0, '')])"
      ]
     },
     "execution_count": 7,
     "metadata": {},
     "output_type": "execute_result"
    },
    {
     "data": {
      "image/png": "[encoded data removed]",
      "text/plain": [
       "<Figure size 432x288 with 1 Axes>"
      ]
     },
     "metadata": {
      "needs_background": "light"
     },
     "output_type": "display_data"
    }
   ],
   "source": [
    "import matplotlib.pyplot as plt\n",
    "plt.scatter(k,WCSS,c=\"red\")\n",
    "plt.plot(k,WCSS)\n",
    "plt.xlabel(\"Number of K\")\n",
    "plt.ylabel(\"WCSS\")\n",
    "plt.xticks(k)"
   ]
  },
  {
   "cell_type": "markdown",
   "id": "0f318190",
   "metadata": {},
   "source": [
    "# Creat model by best K and train the model"
   ]
  },
  {
   "cell_type": "code",
   "execution_count": 8,
   "id": "162b1d99",
   "metadata": {},
   "outputs": [],
   "source": [
    "k_model = KMeans(n_clusters=6)\n",
    "model = k_model.fit(C)"
   ]
  },
  {
   "cell_type": "code",
   "execution_count": 9,
   "id": "cd62632c",
   "metadata": {},
   "outputs": [
    {
     "data": {
      "text/plain": [
       "array([3, 0, 0, 0, 0, 3, 2, 2, 2, 0, 0, 3, 3, 2, 3, 2, 2, 2, 0, 2, 3, 0,\n",
       "       1, 3, 3, 2, 3, 2, 1, 2, 1, 3, 3, 3, 3, 2, 2, 2, 4, 1, 3, 4, 3, 1,\n",
       "       3, 1, 3, 5, 0, 0, 0, 0, 1, 1, 3, 2, 0, 0, 5, 3, 2, 1, 2, 1, 3, 2,\n",
       "       2, 3, 3, 2, 2, 3, 1, 3, 2, 2, 2, 0, 1, 1, 3, 3, 4, 1, 3, 3, 2, 3,\n",
       "       2, 2, 2, 2, 2])"
      ]
     },
     "execution_count": 9,
     "metadata": {},
     "output_type": "execute_result"
    }
   ],
   "source": [
    "model.labels_"
   ]
  },
  {
   "cell_type": "markdown",
   "id": "16d4233b",
   "metadata": {},
   "source": [
    "# Adding cluster labels and Make to the B dataframe"
   ]
  },
  {
   "cell_type": "code",
   "execution_count": 10,
   "id": "d1c947ed",
   "metadata": {},
   "outputs": [],
   "source": [
    "B[\"Cluster\"] = model.labels_"
   ]
  },
  {
   "cell_type": "code",
   "execution_count": 11,
   "id": "bfdbd231",
   "metadata": {},
   "outputs": [],
   "source": [
    "B[\"Make\"] = A[\"Make\"]"
   ]
  },
  {
   "cell_type": "code",
   "execution_count": 12,
   "id": "a5a1c28b",
   "metadata": {},
   "outputs": [
    {
     "data": {
      "text/html": [
       "<div>\n",
       "<style scoped>\n",
       "    .dataframe tbody tr th:only-of-type {\n",
       "        vertical-align: middle;\n",
       "    }\n",
       "\n",
       "    .dataframe tbody tr th {\n",
       "        vertical-align: top;\n",
       "    }\n",
       "\n",
       "    .dataframe thead th {\n",
       "        text-align: right;\n",
       "    }\n",
       "</style>\n",
       "<table border=\"1\" class=\"dataframe\">\n",
       "  <thead>\n",
       "    <tr style=\"text-align: right;\">\n",
       "      <th></th>\n",
       "      <th>Price</th>\n",
       "      <th>MPG.city</th>\n",
       "      <th>Cluster</th>\n",
       "      <th>Make</th>\n",
       "    </tr>\n",
       "  </thead>\n",
       "  <tbody>\n",
       "    <tr>\n",
       "      <th>0</th>\n",
       "      <td>15.9</td>\n",
       "      <td>25</td>\n",
       "      <td>3</td>\n",
       "      <td>Acura Integra</td>\n",
       "    </tr>\n",
       "    <tr>\n",
       "      <th>1</th>\n",
       "      <td>33.9</td>\n",
       "      <td>18</td>\n",
       "      <td>0</td>\n",
       "      <td>Acura Legend</td>\n",
       "    </tr>\n",
       "    <tr>\n",
       "      <th>2</th>\n",
       "      <td>29.1</td>\n",
       "      <td>20</td>\n",
       "      <td>0</td>\n",
       "      <td>Audi 90</td>\n",
       "    </tr>\n",
       "  </tbody>\n",
       "</table>\n",
       "</div>"
      ],
      "text/plain": [
       "   Price  MPG.city  Cluster           Make\n",
       "0   15.9        25        3  Acura Integra\n",
       "1   33.9        18        0   Acura Legend\n",
       "2   29.1        20        0        Audi 90"
      ]
     },
     "execution_count": 12,
     "metadata": {},
     "output_type": "execute_result"
    }
   ],
   "source": [
    "B.head(3)"
   ]
  },
  {
   "cell_type": "markdown",
   "id": "b1c7b6f6",
   "metadata": {},
   "source": [
    "# Scatter plot of clustering with there centroid"
   ]
  },
  {
   "cell_type": "code",
   "execution_count": 13,
   "id": "18b27b4b",
   "metadata": {},
   "outputs": [
    {
     "data": {
      "text/plain": [
       "Text(0, 0.5, 'Mileage in city')"
      ]
     },
     "execution_count": 13,
     "metadata": {},
     "output_type": "execute_result"
    },
    {
     "data": {
      "image/png": "[encoded data removed]",
      "text/plain": [
       "<Figure size 432x288 with 1 Axes>"
      ]
     },
     "metadata": {
      "needs_background": "light"
     },
     "output_type": "display_data"
    }
   ],
   "source": [
    "E = pd.DataFrame(mm.inverse_transform(model.cluster_centers_),columns=[\"X\",\"Y\"])\n",
    "import matplotlib.pyplot as plt\n",
    "plt.scatter(B.Price,B['MPG.city'],c=B.Cluster)\n",
    "plt.scatter(E.X,E.Y,c=\"red\",marker=\"+\",s=200)\n",
    "plt.xlabel(\"Price of Car\")\n",
    "plt.ylabel(\"Mileage in city\")"
   ]
  },
  {
   "cell_type": "markdown",
   "id": "5c68d274",
   "metadata": {},
   "source": [
    "# Finding Cluster value of Make"
   ]
  },
  {
   "cell_type": "code",
   "execution_count": 14,
   "id": "ee72ffb7",
   "metadata": {},
   "outputs": [
    {
     "data": {
      "text/plain": [
       "3"
      ]
     },
     "execution_count": 14,
     "metadata": {},
     "output_type": "execute_result"
    }
   ],
   "source": [
    "B[B[\"Make\"]==\"Acura Integra\"][[\"Cluster\"]].values[0][0]"
   ]
  },
  {
   "cell_type": "code",
   "execution_count": 15,
   "id": "7578e453",
   "metadata": {},
   "outputs": [
    {
     "data": {
      "text/plain": [
       "47          Infiniti Q45\n",
       "58    Mercedes-Benz 300E\n",
       "Name: Make, dtype: object"
      ]
     },
     "execution_count": 15,
     "metadata": {},
     "output_type": "execute_result"
    }
   ],
   "source": [
    "B[B[\"Cluster\"]==5].Make"
   ]
  },
  {
   "cell_type": "markdown",
   "id": "42f10d30",
   "metadata": {},
   "source": [
    "# Find similar cars by entering make of the car"
   ]
  },
  {
   "cell_type": "code",
   "execution_count": 16,
   "id": "cfaf0624",
   "metadata": {},
   "outputs": [
    {
     "name": "stdout",
     "output_type": "stream",
     "text": [
      "Enter a car to find similar cars: Acura Integra\n",
      "These are cars similar to the one you like\n",
      "Acura Integra\n",
      "Buick Century\n",
      "Chevrolet Cavalier\n",
      "Chevrolet Corsica\n",
      "Chevrolet Lumina\n",
      "Chrysler LeBaron\n",
      "Dodge Shadow\n",
      "Dodge Spirit\n",
      "Dodge Dynasty\n",
      "Ford Escort\n",
      "Ford Tempo\n",
      "Ford Mustang\n",
      "Ford Probe\n",
      "Honda Prelude\n",
      "Honda Accord\n",
      "Hyundai Elantra\n",
      "Hyundai Sonata\n",
      "Mazda 626\n",
      "Mercury Capri\n",
      "Nissan Altima\n",
      "Oldsmobile Achieva\n",
      "Oldsmobile Cutlass_Ciera\n",
      "Plymouth Laser\n",
      "Pontiac Sunbird\n",
      "Subaru Loyale\n",
      "Subaru Legacy\n",
      "Toyota Celica\n",
      "Toyota Camry\n",
      "Volkswagen Fox\n"
     ]
    }
   ],
   "source": [
    "liked_car = input(\"Enter a car to find similar cars: \")\n",
    "liked_car_cluter = B[B[\"Make\"]== liked_car][[\"Cluster\"]].values[0][0]\n",
    "print(\"These are cars similar to the one you like\")\n",
    "for i in B[B[\"Cluster\"]==liked_car_cluter].Make:\n",
    "    print(i)"
   ]
  }
 ],
 "metadata": {
  "kernelspec": {
   "display_name": "Python 3",
   "language": "python",
   "name": "python3"
  },
  "language_info": {
   "codemirror_mode": {
    "name": "ipython",
    "version": 3
   },
   "file_extension": ".py",
   "mimetype": "text/x-python",
   "name": "python",
   "nbconvert_exporter": "python",
   "pygments_lexer": "ipython3",
   "version": "3.8.8"
  }
 },
 "nbformat": 4,
 "nbformat_minor": 5
}
